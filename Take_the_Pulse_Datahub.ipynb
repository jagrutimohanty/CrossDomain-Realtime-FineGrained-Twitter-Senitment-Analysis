{
  "nbformat": 4,
  "nbformat_minor": 0,
  "metadata": {
    "colab": {
      "name": "Take_the_Pulse_Datahub.ipynb",
      "provenance": [],
      "collapsed_sections": [],
      "toc_visible": true,
      "include_colab_link": true
    },
    "kernelspec": {
      "name": "python3",
      "display_name": "Python 3"
    },
    "accelerator": "GPU"
  },
  "cells": [
    {
      "cell_type": "markdown",
      "metadata": {
        "id": "view-in-github",
        "colab_type": "text"
      },
      "source": [
        "<a href=\"https://colab.research.google.com/github/jagrutimohanty/CrossDomain-Realtime-FineGrained-Twitter-Senitment-Analysis/blob/main/Take_the_Pulse_Datahub.ipynb\" target=\"_parent\"><img src=\"https://colab.research.google.com/assets/colab-badge.svg\" alt=\"Open In Colab\"/></a>"
      ]
    },
    {
      "cell_type": "code",
      "metadata": {
        "colab": {
          "base_uri": "https://localhost:8080/"
        },
        "id": "77_RzNJ8_cA3",
        "outputId": "e5880033-8923-451f-817f-ecdb5055133a"
      },
      "source": [
        "from google.colab import drive\n",
        "drive.mount('/content/drive')"
      ],
      "execution_count": null,
      "outputs": [
        {
          "output_type": "stream",
          "text": [
            "Drive already mounted at /content/drive; to attempt to forcibly remount, call drive.mount(\"/content/drive\", force_remount=True).\n"
          ],
          "name": "stdout"
        }
      ]
    },
    {
      "cell_type": "markdown",
      "metadata": {
        "id": "aoVvqtWZ4l1M"
      },
      "source": [
        "# **TAKE THE PULSE - DATAHUB**\n",
        "\n",
        "## **Data Collection**\n",
        "\n",
        "For our sentiment analysis we used movie review data from Rotten Tomatoes https://nlp.stanford.edu/sentiment/ \n",
        "\n",
        "This dataset contains the following files:\n",
        "1. original_rt_snippets.txt contains 10,605 processed snippets from the original pool of Rotten Tomatoes HTML files. Please note that some snippet may contain multiple sentences.\n",
        "\n",
        "2. **`dictionary.txt`** contains all phrases and their IDs, separated by a vertical line |\n",
        "\n",
        "3. **`sentiment_labels.txt`** contains all phrase ids and the corresponding sentiment labels, separated by a vertical line.\n",
        "Note that you can recover the 5 classes by mapping the positivity probability using the following cut-offs:\n",
        "\n",
        ">*  [0.0, 0.2] =======> Very Negative \n",
        "*   (0.2, 0.4] =======> Negative\n",
        "*   (0.4, 0.6] =======> Neutral\n",
        "*   (0.6, 0.8] =======> Positive\n",
        "*   (0.8, 1.0] =======> Very Positive\n",
        "\n",
        "4. `SOStr.txt` and `STree.txt` encode the structure of the parse trees. \n",
        "STree encodes the trees in a parent pointer format. Each line corresponds to each sentence in the datasetSentences.txt file. The Matlab code of this paper will show you how to read this format if you are not familiar with it.\n",
        "\n",
        "5. `datasetSentences.txt` contains the sentence index, followed by the sentence string separated by a tab. These are the sentences of the train/dev/test sets.\n",
        "\n",
        "6. `datasetSplit.txt` contains the sentence index (corresponding to the index in datasetSentences.txt file) followed by the set label separated by a comma:\n",
        "\t1 = train\n",
        "\t2 = test\n",
        "\t3 = dev\n",
        "\n",
        "The files in bold are relevant to our project and these were downloaded and uploaded to a shared drive linked to this notebook. Since we're interested in predicting sentiment analysis on Twitter, we opted to use **`dictionary.txt`** without the sentence context, this file contains phrases and their corresponding ids, these ids are then mapped to sentiment values in **`sentiment_labels.txt`**\n",
        "\n",
        "\n",
        "These two files are loaded into our dataframe and then merged on the phrase id as shown below"
      ]
    },
    {
      "cell_type": "code",
      "metadata": {
        "id": "GMhjdvb6AF8K"
      },
      "source": [
        "import os\n",
        "import string\n",
        "import pandas as pd\n",
        "import numpy as np\n",
        "import matplotlib.pyplot as plt\n",
        "from sklearn.model_selection import train_test_split"
      ],
      "execution_count": null,
      "outputs": []
    },
    {
      "cell_type": "code",
      "metadata": {
        "id": "EfSuTsol_aVo"
      },
      "source": [
        "DIR = '/content/drive/Shareddrives/255/Project'\n",
        "if os.getcwd() != DIR:\n",
        "  os.chdir(DIR)\n",
        "\n",
        "data = pd.read_csv('./cleaned_data/dictionary.csv')\n",
        "sentiment = pd.read_csv('./cleaned_data/sentiment_labels.txt', sep=\"|\")\n",
        "combined = pd.merge(data, sentiment, how='inner', left_on='id', right_on='phrase ids')\n",
        "df = combined[['phrase', 'sentiment values']]"
      ],
      "execution_count": null,
      "outputs": []
    },
    {
      "cell_type": "code",
      "metadata": {
        "colab": {
          "base_uri": "https://localhost:8080/",
          "height": 292
        },
        "id": "oLYvwWPd-ETw",
        "outputId": "e1ea7786-4b41-48ae-807f-26b533d4f09f"
      },
      "source": [
        "pd.set_option('display.max_colwidth', -1)\n",
        "df.sample(5)"
      ],
      "execution_count": null,
      "outputs": [
        {
          "output_type": "stream",
          "text": [
            "/usr/local/lib/python3.6/dist-packages/ipykernel_launcher.py:1: FutureWarning: Passing a negative integer is deprecated in version 1.0 and will not be supported in future version. Instead, use None to not limit the column width.\n",
            "  \"\"\"Entry point for launching an IPython kernel.\n"
          ],
          "name": "stderr"
        },
        {
          "output_type": "execute_result",
          "data": {
            "text/html": [
              "<div>\n",
              "<style scoped>\n",
              "    .dataframe tbody tr th:only-of-type {\n",
              "        vertical-align: middle;\n",
              "    }\n",
              "\n",
              "    .dataframe tbody tr th {\n",
              "        vertical-align: top;\n",
              "    }\n",
              "\n",
              "    .dataframe thead th {\n",
              "        text-align: right;\n",
              "    }\n",
              "</style>\n",
              "<table border=\"1\" class=\"dataframe\">\n",
              "  <thead>\n",
              "    <tr style=\"text-align: right;\">\n",
              "      <th></th>\n",
              "      <th>phrase</th>\n",
              "      <th>sentiment values</th>\n",
              "    </tr>\n",
              "  </thead>\n",
              "  <tbody>\n",
              "    <tr>\n",
              "      <th>73683</th>\n",
              "      <td>casting Shatner as a legendary professor and Kunis as a brilliant college student -- where 's Pauly Shore as the rocket scientist ?</td>\n",
              "      <td>0.31944</td>\n",
              "    </tr>\n",
              "    <tr>\n",
              "      <th>160705</th>\n",
              "      <td>the notion that a strong , unified showing among Germany and Eastern European Jews might have changed 20th-Century history is undermined by Ahola 's inadequate performance</td>\n",
              "      <td>0.33333</td>\n",
              "    </tr>\n",
              "    <tr>\n",
              "      <th>117516</th>\n",
              "      <td>make pta proud yet director muccino 's characters are less worthy of puccini</td>\n",
              "      <td>0.34722</td>\n",
              "    </tr>\n",
              "    <tr>\n",
              "      <th>118176</th>\n",
              "      <td>manages to infuse the rocky path to sibling reconciliation with flashes of warmth and gentle humor</td>\n",
              "      <td>0.76389</td>\n",
              "    </tr>\n",
              "    <tr>\n",
              "      <th>144371</th>\n",
              "      <td>so much as that it hits close to home while engaging in such silliness as that snake-down-the-throat business and the inevitable shot of Schwarzenegger</td>\n",
              "      <td>0.41667</td>\n",
              "    </tr>\n",
              "  </tbody>\n",
              "</table>\n",
              "</div>"
            ],
            "text/plain": [
              "                                                                                                                                                                             phrase  sentiment values\n",
              "73683   casting Shatner as a legendary professor and Kunis as a brilliant college student -- where 's Pauly Shore as the rocket scientist ?                                          0.31944         \n",
              "160705  the notion that a strong , unified showing among Germany and Eastern European Jews might have changed 20th-Century history is undermined by Ahola 's inadequate performance  0.33333         \n",
              "117516  make pta proud yet director muccino 's characters are less worthy of puccini                                                                                                 0.34722         \n",
              "118176  manages to infuse the rocky path to sibling reconciliation with flashes of warmth and gentle humor                                                                           0.76389         \n",
              "144371  so much as that it hits close to home while engaging in such silliness as that snake-down-the-throat business and the inevitable shot of Schwarzenegger                      0.41667         "
            ]
          },
          "metadata": {
            "tags": []
          },
          "execution_count": 6
        }
      ]
    },
    {
      "cell_type": "markdown",
      "metadata": {
        "id": "uTZZrBdGJbE3"
      },
      "source": [
        "We'll run a mapping function over the sentiment values to recover our five classes"
      ]
    },
    {
      "cell_type": "code",
      "metadata": {
        "colab": {
          "base_uri": "https://localhost:8080/",
          "height": 204
        },
        "id": "PAKsH-GhJZRa",
        "outputId": "17d3a07f-3348-4edf-8696-e17d8bbed6c6"
      },
      "source": [
        "def assign_sentiment(val):\n",
        "  if val <= 0.2:\n",
        "    return 0\n",
        "  elif val <= 0.4:\n",
        "    return 1\n",
        "  elif val <= 0.6:\n",
        "    return 2\n",
        "  elif val <= 0.8:\n",
        "    return 3\n",
        "  return 4\n",
        "\n",
        "labels = list(map(assign_sentiment, df['sentiment values'].to_numpy()))\n",
        "df = df.assign(labels=labels)\n",
        "df.sample(5)"
      ],
      "execution_count": null,
      "outputs": [
        {
          "output_type": "execute_result",
          "data": {
            "text/html": [
              "<div>\n",
              "<style scoped>\n",
              "    .dataframe tbody tr th:only-of-type {\n",
              "        vertical-align: middle;\n",
              "    }\n",
              "\n",
              "    .dataframe tbody tr th {\n",
              "        vertical-align: top;\n",
              "    }\n",
              "\n",
              "    .dataframe thead th {\n",
              "        text-align: right;\n",
              "    }\n",
              "</style>\n",
              "<table border=\"1\" class=\"dataframe\">\n",
              "  <thead>\n",
              "    <tr style=\"text-align: right;\">\n",
              "      <th></th>\n",
              "      <th>phrase</th>\n",
              "      <th>sentiment values</th>\n",
              "      <th>labels</th>\n",
              "    </tr>\n",
              "  </thead>\n",
              "  <tbody>\n",
              "    <tr>\n",
              "      <th>2473</th>\n",
              "      <td>'s hope for popular cinema yet</td>\n",
              "      <td>0.63889</td>\n",
              "      <td>3</td>\n",
              "    </tr>\n",
              "    <tr>\n",
              "      <th>177603</th>\n",
              "      <td>wants to see a comedy about shoddy airport security</td>\n",
              "      <td>0.44444</td>\n",
              "      <td>2</td>\n",
              "    </tr>\n",
              "    <tr>\n",
              "      <th>38123</th>\n",
              "      <td>The Greatest Musicians</td>\n",
              "      <td>0.69444</td>\n",
              "      <td>3</td>\n",
              "    </tr>\n",
              "    <tr>\n",
              "      <th>85402</th>\n",
              "      <td>far from being a bow-wow</td>\n",
              "      <td>0.61111</td>\n",
              "      <td>3</td>\n",
              "    </tr>\n",
              "    <tr>\n",
              "      <th>144024</th>\n",
              "      <td>smeary</td>\n",
              "      <td>0.34722</td>\n",
              "      <td>1</td>\n",
              "    </tr>\n",
              "  </tbody>\n",
              "</table>\n",
              "</div>"
            ],
            "text/plain": [
              "                                                     phrase  ...  labels\n",
              "2473    's hope for popular cinema yet                       ...  3     \n",
              "177603  wants to see a comedy about shoddy airport security  ...  2     \n",
              "38123   The Greatest Musicians                               ...  3     \n",
              "85402   far from being a bow-wow                             ...  3     \n",
              "144024  smeary                                               ...  1     \n",
              "\n",
              "[5 rows x 3 columns]"
            ]
          },
          "metadata": {
            "tags": []
          },
          "execution_count": 7
        }
      ]
    },
    {
      "cell_type": "markdown",
      "metadata": {
        "id": "YaYHli43APSJ"
      },
      "source": [
        "## **Data Pre-Processing**\n",
        "\n",
        "We're in a unique position since we'll need to apply different pre-processing steps to different parts of our data. The training data from Rotten Tomatoes is in better shape for sentiment analysis since it was prepared for that task in mind, the tweets that we'll evaluate in test time will however require more cleaning as we'll see later\n",
        "\n"
      ]
    },
    {
      "cell_type": "markdown",
      "metadata": {
        "id": "ZqBh3GD2EMX5"
      },
      "source": [
        "The first step was to remove invalid phrases, basically phrases for which sentiment analysis does not make sense, so we removed phrases that were just punctuations and also the non-English phrases since the encoding we'll use for our model is pretrained on an English corpus.\n",
        "\n",
        "To filter out non-English reviews we used a python library langdetect"
      ]
    },
    {
      "cell_type": "code",
      "metadata": {
        "colab": {
          "base_uri": "https://localhost:8080/"
        },
        "id": "iTbKLForFPHH",
        "outputId": "0783ff89-36f2-4e62-942d-b1a290ea5b4b"
      },
      "source": [
        "!pip install langdetect\n",
        "from langdetect import detect, DetectorFactory"
      ],
      "execution_count": null,
      "outputs": [
        {
          "output_type": "stream",
          "text": [
            "Collecting langdetect\n",
            "\u001b[?25l  Downloading https://files.pythonhosted.org/packages/56/a3/8407c1e62d5980188b4acc45ef3d94b933d14a2ebc9ef3505f22cf772570/langdetect-1.0.8.tar.gz (981kB)\n",
            "\r\u001b[K     |▍                               | 10kB 20.5MB/s eta 0:00:01\r\u001b[K     |▊                               | 20kB 26.9MB/s eta 0:00:01\r\u001b[K     |█                               | 30kB 22.7MB/s eta 0:00:01\r\u001b[K     |█▍                              | 40kB 21.3MB/s eta 0:00:01\r\u001b[K     |█▊                              | 51kB 22.0MB/s eta 0:00:01\r\u001b[K     |██                              | 61kB 16.0MB/s eta 0:00:01\r\u001b[K     |██▍                             | 71kB 16.7MB/s eta 0:00:01\r\u001b[K     |██▊                             | 81kB 17.8MB/s eta 0:00:01\r\u001b[K     |███                             | 92kB 16.0MB/s eta 0:00:01\r\u001b[K     |███▍                            | 102kB 17.2MB/s eta 0:00:01\r\u001b[K     |███▊                            | 112kB 17.2MB/s eta 0:00:01\r\u001b[K     |████                            | 122kB 17.2MB/s eta 0:00:01\r\u001b[K     |████▍                           | 133kB 17.2MB/s eta 0:00:01\r\u001b[K     |████▊                           | 143kB 17.2MB/s eta 0:00:01\r\u001b[K     |█████                           | 153kB 17.2MB/s eta 0:00:01\r\u001b[K     |█████▍                          | 163kB 17.2MB/s eta 0:00:01\r\u001b[K     |█████▊                          | 174kB 17.2MB/s eta 0:00:01\r\u001b[K     |██████                          | 184kB 17.2MB/s eta 0:00:01\r\u001b[K     |██████▍                         | 194kB 17.2MB/s eta 0:00:01\r\u001b[K     |██████▊                         | 204kB 17.2MB/s eta 0:00:01\r\u001b[K     |███████                         | 215kB 17.2MB/s eta 0:00:01\r\u001b[K     |███████▍                        | 225kB 17.2MB/s eta 0:00:01\r\u001b[K     |███████▊                        | 235kB 17.2MB/s eta 0:00:01\r\u001b[K     |████████                        | 245kB 17.2MB/s eta 0:00:01\r\u001b[K     |████████▍                       | 256kB 17.2MB/s eta 0:00:01\r\u001b[K     |████████▊                       | 266kB 17.2MB/s eta 0:00:01\r\u001b[K     |█████████                       | 276kB 17.2MB/s eta 0:00:01\r\u001b[K     |█████████▍                      | 286kB 17.2MB/s eta 0:00:01\r\u001b[K     |█████████▊                      | 296kB 17.2MB/s eta 0:00:01\r\u001b[K     |██████████                      | 307kB 17.2MB/s eta 0:00:01\r\u001b[K     |██████████▍                     | 317kB 17.2MB/s eta 0:00:01\r\u001b[K     |██████████▊                     | 327kB 17.2MB/s eta 0:00:01\r\u001b[K     |███████████                     | 337kB 17.2MB/s eta 0:00:01\r\u001b[K     |███████████▍                    | 348kB 17.2MB/s eta 0:00:01\r\u001b[K     |███████████▊                    | 358kB 17.2MB/s eta 0:00:01\r\u001b[K     |████████████                    | 368kB 17.2MB/s eta 0:00:01\r\u001b[K     |████████████▍                   | 378kB 17.2MB/s eta 0:00:01\r\u001b[K     |████████████▊                   | 389kB 17.2MB/s eta 0:00:01\r\u001b[K     |█████████████                   | 399kB 17.2MB/s eta 0:00:01\r\u001b[K     |█████████████▍                  | 409kB 17.2MB/s eta 0:00:01\r\u001b[K     |█████████████▊                  | 419kB 17.2MB/s eta 0:00:01\r\u001b[K     |██████████████                  | 430kB 17.2MB/s eta 0:00:01\r\u001b[K     |██████████████▍                 | 440kB 17.2MB/s eta 0:00:01\r\u001b[K     |██████████████▊                 | 450kB 17.2MB/s eta 0:00:01\r\u001b[K     |███████████████                 | 460kB 17.2MB/s eta 0:00:01\r\u001b[K     |███████████████▍                | 471kB 17.2MB/s eta 0:00:01\r\u001b[K     |███████████████▊                | 481kB 17.2MB/s eta 0:00:01\r\u001b[K     |████████████████                | 491kB 17.2MB/s eta 0:00:01\r\u001b[K     |████████████████▍               | 501kB 17.2MB/s eta 0:00:01\r\u001b[K     |████████████████▊               | 512kB 17.2MB/s eta 0:00:01\r\u001b[K     |█████████████████               | 522kB 17.2MB/s eta 0:00:01\r\u001b[K     |█████████████████▍              | 532kB 17.2MB/s eta 0:00:01\r\u001b[K     |█████████████████▊              | 542kB 17.2MB/s eta 0:00:01\r\u001b[K     |██████████████████              | 552kB 17.2MB/s eta 0:00:01\r\u001b[K     |██████████████████▍             | 563kB 17.2MB/s eta 0:00:01\r\u001b[K     |██████████████████▊             | 573kB 17.2MB/s eta 0:00:01\r\u001b[K     |███████████████████             | 583kB 17.2MB/s eta 0:00:01\r\u001b[K     |███████████████████▍            | 593kB 17.2MB/s eta 0:00:01\r\u001b[K     |███████████████████▊            | 604kB 17.2MB/s eta 0:00:01\r\u001b[K     |████████████████████            | 614kB 17.2MB/s eta 0:00:01\r\u001b[K     |████████████████████▍           | 624kB 17.2MB/s eta 0:00:01\r\u001b[K     |████████████████████▊           | 634kB 17.2MB/s eta 0:00:01\r\u001b[K     |█████████████████████           | 645kB 17.2MB/s eta 0:00:01\r\u001b[K     |█████████████████████▍          | 655kB 17.2MB/s eta 0:00:01\r\u001b[K     |█████████████████████▊          | 665kB 17.2MB/s eta 0:00:01\r\u001b[K     |██████████████████████          | 675kB 17.2MB/s eta 0:00:01\r\u001b[K     |██████████████████████▍         | 686kB 17.2MB/s eta 0:00:01\r\u001b[K     |██████████████████████▊         | 696kB 17.2MB/s eta 0:00:01\r\u001b[K     |███████████████████████         | 706kB 17.2MB/s eta 0:00:01\r\u001b[K     |███████████████████████▍        | 716kB 17.2MB/s eta 0:00:01\r\u001b[K     |███████████████████████▊        | 727kB 17.2MB/s eta 0:00:01\r\u001b[K     |████████████████████████        | 737kB 17.2MB/s eta 0:00:01\r\u001b[K     |████████████████████████▍       | 747kB 17.2MB/s eta 0:00:01\r\u001b[K     |████████████████████████▊       | 757kB 17.2MB/s eta 0:00:01\r\u001b[K     |█████████████████████████       | 768kB 17.2MB/s eta 0:00:01\r\u001b[K     |█████████████████████████▍      | 778kB 17.2MB/s eta 0:00:01\r\u001b[K     |█████████████████████████▊      | 788kB 17.2MB/s eta 0:00:01\r\u001b[K     |██████████████████████████      | 798kB 17.2MB/s eta 0:00:01\r\u001b[K     |██████████████████████████▍     | 808kB 17.2MB/s eta 0:00:01\r\u001b[K     |██████████████████████████▊     | 819kB 17.2MB/s eta 0:00:01\r\u001b[K     |███████████████████████████     | 829kB 17.2MB/s eta 0:00:01\r\u001b[K     |███████████████████████████▍    | 839kB 17.2MB/s eta 0:00:01\r\u001b[K     |███████████████████████████▊    | 849kB 17.2MB/s eta 0:00:01\r\u001b[K     |████████████████████████████    | 860kB 17.2MB/s eta 0:00:01\r\u001b[K     |████████████████████████████▍   | 870kB 17.2MB/s eta 0:00:01\r\u001b[K     |████████████████████████████▊   | 880kB 17.2MB/s eta 0:00:01\r\u001b[K     |█████████████████████████████   | 890kB 17.2MB/s eta 0:00:01\r\u001b[K     |█████████████████████████████▍  | 901kB 17.2MB/s eta 0:00:01\r\u001b[K     |█████████████████████████████▊  | 911kB 17.2MB/s eta 0:00:01\r\u001b[K     |██████████████████████████████  | 921kB 17.2MB/s eta 0:00:01\r\u001b[K     |██████████████████████████████▍ | 931kB 17.2MB/s eta 0:00:01\r\u001b[K     |██████████████████████████████▊ | 942kB 17.2MB/s eta 0:00:01\r\u001b[K     |███████████████████████████████ | 952kB 17.2MB/s eta 0:00:01\r\u001b[K     |███████████████████████████████▍| 962kB 17.2MB/s eta 0:00:01\r\u001b[K     |███████████████████████████████▊| 972kB 17.2MB/s eta 0:00:01\r\u001b[K     |████████████████████████████████| 983kB 17.2MB/s \n",
            "\u001b[?25hRequirement already satisfied: six in /usr/local/lib/python3.6/dist-packages (from langdetect) (1.15.0)\n",
            "Building wheels for collected packages: langdetect\n",
            "  Building wheel for langdetect (setup.py) ... \u001b[?25l\u001b[?25hdone\n",
            "  Created wheel for langdetect: filename=langdetect-1.0.8-cp36-none-any.whl size=993195 sha256=6f8b6270e3665038a94bd8574495f3e55fa98c8afd585a67edb7f0b942573170\n",
            "  Stored in directory: /root/.cache/pip/wheels/8d/b3/aa/6d99de9f3841d7d3d40a60ea06e6d669e8e5012e6c8b947a57\n",
            "Successfully built langdetect\n",
            "Installing collected packages: langdetect\n",
            "Successfully installed langdetect-1.0.8\n"
          ],
          "name": "stdout"
        }
      ]
    },
    {
      "cell_type": "code",
      "metadata": {
        "id": "uvfs18jYD-GT"
      },
      "source": [
        "# WARNING: This cell takes long to run even on GPU and High RAM Runtimes\n",
        "from string import digits\n",
        "\n",
        "DetectorFactory.seed = 0\n",
        "\n",
        "def remove_invalid_phrases(s):\n",
        "  try:\n",
        "    is_en = detect(s) == 'en'\n",
        "    if not s.strip(string.punctuation):\n",
        "      return False\n",
        "    return is_en\n",
        "  except:\n",
        "    return False\n",
        "\n",
        "df = df[df['phrase'].apply(remove_invalid_phrases).to_list()]"
      ],
      "execution_count": null,
      "outputs": []
    },
    {
      "cell_type": "markdown",
      "metadata": {
        "id": "RwzNN03mEsiY"
      },
      "source": [
        "We then remove all the unnecessary whitespace and at this point our data is in pretty good shape to be used. \n",
        "\n",
        "> At this point it'll be important to note that we're using SentenceBERT https://www.sbert.net/ a pretrained neural network that has very thorough preprocessing so additional preprocessing would have not been necessary. This is also important because SentenceBERT works with sentences and phrases and therefore takes the context of all the words into account, including stop words that are typically removed at this stage for most models. Therefore no stop words removal or lemmatization was done on the data\n",
        "\n",
        "\n"
      ]
    },
    {
      "cell_type": "code",
      "metadata": {
        "id": "3_TS1fJGEA1h"
      },
      "source": [
        "def preprocess_phrase(s):\n",
        "  s = s.strip()\n",
        "  s = \" \".join(s.split())\n",
        "  return s\n",
        "\n",
        "df['phrase'] = df['phrase'].apply(preprocess_phrase)"
      ],
      "execution_count": null,
      "outputs": []
    },
    {
      "cell_type": "code",
      "metadata": {
        "colab": {
          "base_uri": "https://localhost:8080/",
          "height": 204
        },
        "id": "O0ixmRZIJZ1N",
        "outputId": "18de2517-de5c-44a5-82f4-05ada4280ce5"
      },
      "source": [
        "df.sample(5)"
      ],
      "execution_count": null,
      "outputs": [
        {
          "output_type": "execute_result",
          "data": {
            "text/html": [
              "<div>\n",
              "<style scoped>\n",
              "    .dataframe tbody tr th:only-of-type {\n",
              "        vertical-align: middle;\n",
              "    }\n",
              "\n",
              "    .dataframe tbody tr th {\n",
              "        vertical-align: top;\n",
              "    }\n",
              "\n",
              "    .dataframe thead th {\n",
              "        text-align: right;\n",
              "    }\n",
              "</style>\n",
              "<table border=\"1\" class=\"dataframe\">\n",
              "  <thead>\n",
              "    <tr style=\"text-align: right;\">\n",
              "      <th></th>\n",
              "      <th>phrase</th>\n",
              "      <th>sentiment values</th>\n",
              "      <th>labels</th>\n",
              "    </tr>\n",
              "  </thead>\n",
              "  <tbody>\n",
              "    <tr>\n",
              "      <th>111248</th>\n",
              "      <td>it tries too hard</td>\n",
              "      <td>0.55556</td>\n",
              "      <td>2</td>\n",
              "    </tr>\n",
              "    <tr>\n",
              "      <th>89633</th>\n",
              "      <td>from home , but your ego</td>\n",
              "      <td>0.51389</td>\n",
              "      <td>2</td>\n",
              "    </tr>\n",
              "    <tr>\n",
              "      <th>127622</th>\n",
              "      <td>of serious athletes</td>\n",
              "      <td>0.52778</td>\n",
              "      <td>2</td>\n",
              "    </tr>\n",
              "    <tr>\n",
              "      <th>43378</th>\n",
              "      <td>These are lives worth watching , paths worth following .</td>\n",
              "      <td>0.86111</td>\n",
              "      <td>4</td>\n",
              "    </tr>\n",
              "    <tr>\n",
              "      <th>172491</th>\n",
              "      <td>to take movies by storm</td>\n",
              "      <td>0.55556</td>\n",
              "      <td>2</td>\n",
              "    </tr>\n",
              "  </tbody>\n",
              "</table>\n",
              "</div>"
            ],
            "text/plain": [
              "                                                          phrase  ...  labels\n",
              "111248  it tries too hard                                         ...  2     \n",
              "89633   from home , but your ego                                  ...  2     \n",
              "127622  of serious athletes                                       ...  2     \n",
              "43378   These are lives worth watching , paths worth following .  ...  4     \n",
              "172491  to take movies by storm                                   ...  2     \n",
              "\n",
              "[5 rows x 3 columns]"
            ]
          },
          "metadata": {
            "tags": []
          },
          "execution_count": 9
        }
      ]
    },
    {
      "cell_type": "markdown",
      "metadata": {
        "id": "SItIEFaoIUUA"
      },
      "source": [
        "## **Data Exploration**\n",
        "\n",
        "Let's take a look at the distribution of our data across the five sentiment classes"
      ]
    },
    {
      "cell_type": "code",
      "metadata": {
        "colab": {
          "base_uri": "https://localhost:8080/",
          "height": 285
        },
        "id": "3cPeDsl9I2-E",
        "outputId": "3b7eaffc-f75c-4215-bb61-a7c98f8a535a"
      },
      "source": [
        "import seaborn as sns\n",
        "\n",
        "sns.set_theme(style=\"darkgrid\")\n",
        "ax = sns.countplot(x=\"labels\", data=df)"
      ],
      "execution_count": null,
      "outputs": [
        {
          "output_type": "display_data",
          "data": {
            "image/png": "[encoded data removed]",
            "text/plain": [
              "<Figure size 432x288 with 1 Axes>"
            ]
          },
          "metadata": {
            "tags": []
          }
        }
      ]
    },
    {
      "cell_type": "markdown",
      "metadata": {
        "id": "moo2i9YvJsA8"
      },
      "source": [
        "This graph shows us that there are a lot more phrases classified as neutral and far fewer phrases classified on either extremes. The sentiment values at a glance seem to follow a normal distribution with the mean being somewhere in the range [0.4, 0.6]\n",
        "\n",
        "This also tells us that we should consider frequencies when training our classifier since an unbiased classifier is bound to do better on the neutral phrases that appear much more frequently in the text"
      ]
    },
    {
      "cell_type": "markdown",
      "metadata": {
        "id": "A-pNXYxeKLXj"
      },
      "source": [
        "Our end goal is to learn fine grained sentiment analysis from the phrases in this dataset and apply that to tweets on Twitter about movie hashtags, we therfore should also do some comparison on the length of phrases in our training corpus\n"
      ]
    },
    {
      "cell_type": "code",
      "metadata": {
        "colab": {
          "base_uri": "https://localhost:8080/",
          "height": 302
        },
        "id": "lFoLh8CvKmGA",
        "outputId": "0d8ba433-b91b-4422-94ee-73ac439e4555"
      },
      "source": [
        "char_count = df['phrase'].apply(lambda s: len(list(s))).to_numpy()\n",
        "sns.set_theme(style=\"darkgrid\")\n",
        "print(\"Mean Character Count: \", np.mean(char_count), \"\\n\")\n",
        "ax = sns.boxplot(x=char_count)"
      ],
      "execution_count": null,
      "outputs": [
        {
          "output_type": "stream",
          "text": [
            "Mean Character Count:  50.80067075261444 \n",
            "\n"
          ],
          "name": "stdout"
        },
        {
          "output_type": "display_data",
          "data": {
            "image/png": "[encoded data removed]",
            "text/plain": [
              "<Figure size 432x288 with 1 Axes>"
            ]
          },
          "metadata": {
            "tags": []
          }
        }
      ]
    },
    {
      "cell_type": "markdown",
      "metadata": {
        "id": "AryV2pDQM28A"
      },
      "source": [
        "This is just about what we want for our training data, the mean character count is ~50 characters which is not too far off from the average character length of a tweet on Twitter, 33 charachters with the new 280 character limit \n",
        "\n",
        "https://techcrunch.com/2018/10/30/twitters-doubling-of-character-count-from-140-to-280-had-little-impact-on-length-of-tweets/#:~:text=The%20most%20common%20length%20of,a%20tweet%20is%2033%20characters."
      ]
    },
    {
      "cell_type": "markdown",
      "metadata": {
        "id": "8DtRla6IOLmD"
      },
      "source": [
        "## **Data Encoding**\n",
        "\n",
        "We can now proceed to encode our phrases into vectors. We'll user Sentence BERT as mentioned earlier. This mode comes pretrained and packaged in the library sentence-transformers\n",
        "\n",
        "SentenceTransformers is a Python framework for state-of-the-art sentence and text embeddings. The initial work is described in our paper Sentence-BERT: Sentence Embeddings using Siamese BERT-Networks."
      ]
    },
    {
      "cell_type": "code",
      "metadata": {
        "id": "YlLxHx7rOJ92",
        "colab": {
          "base_uri": "https://localhost:8080/"
        },
        "outputId": "bde1dc0f-26d5-4107-ad20-a47eab0ea95b"
      },
      "source": [
        "# WARNING: This cell takes long to run even on GPU and High RAM Runtimes\n",
        "!pip install -U sentence-transformers\n",
        "\n",
        "from sentence_transformers import SentenceTransformer\n",
        "\n",
        "sbert_model = SentenceTransformer('bert-base-nli-mean-tokens')\n",
        "encodings = sbert_model.encode(df['phrase'].to_numpy())"
      ],
      "execution_count": null,
      "outputs": [
        {
          "output_type": "stream",
          "text": [
            "Requirement already up-to-date: sentence-transformers in /usr/local/lib/python3.6/dist-packages (0.3.9)\n",
            "Requirement already satisfied, skipping upgrade: tqdm in /usr/local/lib/python3.6/dist-packages (from sentence-transformers) (4.41.1)\n",
            "Requirement already satisfied, skipping upgrade: scipy in /usr/local/lib/python3.6/dist-packages (from sentence-transformers) (1.4.1)\n",
            "Requirement already satisfied, skipping upgrade: nltk in /usr/local/lib/python3.6/dist-packages (from sentence-transformers) (3.2.5)\n",
            "Requirement already satisfied, skipping upgrade: torch>=1.6.0 in /usr/local/lib/python3.6/dist-packages (from sentence-transformers) (1.7.0+cu101)\n",
            "Requirement already satisfied, skipping upgrade: numpy in /usr/local/lib/python3.6/dist-packages (from sentence-transformers) (1.18.5)\n",
            "Requirement already satisfied, skipping upgrade: transformers<3.6.0,>=3.1.0 in /usr/local/lib/python3.6/dist-packages (from sentence-transformers) (3.5.1)\n",
            "Requirement already satisfied, skipping upgrade: scikit-learn in /usr/local/lib/python3.6/dist-packages (from sentence-transformers) (0.22.2.post1)\n",
            "Requirement already satisfied, skipping upgrade: six in /usr/local/lib/python3.6/dist-packages (from nltk->sentence-transformers) (1.15.0)\n",
            "Requirement already satisfied, skipping upgrade: typing-extensions in /usr/local/lib/python3.6/dist-packages (from torch>=1.6.0->sentence-transformers) (3.7.4.3)\n",
            "Requirement already satisfied, skipping upgrade: dataclasses in /usr/local/lib/python3.6/dist-packages (from torch>=1.6.0->sentence-transformers) (0.8)\n",
            "Requirement already satisfied, skipping upgrade: future in /usr/local/lib/python3.6/dist-packages (from torch>=1.6.0->sentence-transformers) (0.16.0)\n",
            "Requirement already satisfied, skipping upgrade: regex!=2019.12.17 in /usr/local/lib/python3.6/dist-packages (from transformers<3.6.0,>=3.1.0->sentence-transformers) (2019.12.20)\n",
            "Requirement already satisfied, skipping upgrade: protobuf in /usr/local/lib/python3.6/dist-packages (from transformers<3.6.0,>=3.1.0->sentence-transformers) (3.12.4)\n",
            "Requirement already satisfied, skipping upgrade: sacremoses in /usr/local/lib/python3.6/dist-packages (from transformers<3.6.0,>=3.1.0->sentence-transformers) (0.0.43)\n",
            "Requirement already satisfied, skipping upgrade: filelock in /usr/local/lib/python3.6/dist-packages (from transformers<3.6.0,>=3.1.0->sentence-transformers) (3.0.12)\n",
            "Requirement already satisfied, skipping upgrade: packaging in /usr/local/lib/python3.6/dist-packages (from transformers<3.6.0,>=3.1.0->sentence-transformers) (20.4)\n",
            "Requirement already satisfied, skipping upgrade: requests in /usr/local/lib/python3.6/dist-packages (from transformers<3.6.0,>=3.1.0->sentence-transformers) (2.23.0)\n",
            "Requirement already satisfied, skipping upgrade: tokenizers==0.9.3 in /usr/local/lib/python3.6/dist-packages (from transformers<3.6.0,>=3.1.0->sentence-transformers) (0.9.3)\n",
            "Requirement already satisfied, skipping upgrade: sentencepiece==0.1.91 in /usr/local/lib/python3.6/dist-packages (from transformers<3.6.0,>=3.1.0->sentence-transformers) (0.1.91)\n",
            "Requirement already satisfied, skipping upgrade: joblib>=0.11 in /usr/local/lib/python3.6/dist-packages (from scikit-learn->sentence-transformers) (0.17.0)\n",
            "Requirement already satisfied, skipping upgrade: setuptools in /usr/local/lib/python3.6/dist-packages (from protobuf->transformers<3.6.0,>=3.1.0->sentence-transformers) (50.3.2)\n",
            "Requirement already satisfied, skipping upgrade: click in /usr/local/lib/python3.6/dist-packages (from sacremoses->transformers<3.6.0,>=3.1.0->sentence-transformers) (7.1.2)\n",
            "Requirement already satisfied, skipping upgrade: pyparsing>=2.0.2 in /usr/local/lib/python3.6/dist-packages (from packaging->transformers<3.6.0,>=3.1.0->sentence-transformers) (2.4.7)\n",
            "Requirement already satisfied, skipping upgrade: chardet<4,>=3.0.2 in /usr/local/lib/python3.6/dist-packages (from requests->transformers<3.6.0,>=3.1.0->sentence-transformers) (3.0.4)\n",
            "Requirement already satisfied, skipping upgrade: urllib3!=1.25.0,!=1.25.1,<1.26,>=1.21.1 in /usr/local/lib/python3.6/dist-packages (from requests->transformers<3.6.0,>=3.1.0->sentence-transformers) (1.24.3)\n",
            "Requirement already satisfied, skipping upgrade: certifi>=2017.4.17 in /usr/local/lib/python3.6/dist-packages (from requests->transformers<3.6.0,>=3.1.0->sentence-transformers) (2020.11.8)\n",
            "Requirement already satisfied, skipping upgrade: idna<3,>=2.5 in /usr/local/lib/python3.6/dist-packages (from requests->transformers<3.6.0,>=3.1.0->sentence-transformers) (2.10)\n"
          ],
          "name": "stdout"
        }
      ]
    },
    {
      "cell_type": "markdown",
      "metadata": {
        "id": "qJvwjhF_PoxL"
      },
      "source": [
        "We'll save the encodings into a csv file on our shared drive and with that our training data is ready for use!"
      ]
    },
    {
      "cell_type": "code",
      "metadata": {
        "id": "Xv5u5jmBPiZo"
      },
      "source": [
        "np.savetxt('./cleaned_data/rt_bert_encodings.csv', encodings, delimiter=',')"
      ],
      "execution_count": null,
      "outputs": []
    }
  ]
}