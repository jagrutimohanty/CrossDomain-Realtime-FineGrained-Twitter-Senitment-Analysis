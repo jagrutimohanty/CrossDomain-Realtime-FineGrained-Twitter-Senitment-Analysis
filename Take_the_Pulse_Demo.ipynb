{
  "nbformat": 4,
  "nbformat_minor": 0,
  "metadata": {
    "colab": {
      "name": "Take_the_Pulse_Demo.ipynb",
      "provenance": [],
      "collapsed_sections": [],
      "toc_visible": true,
      "include_colab_link": true
    },
    "kernelspec": {
      "name": "python3",
      "display_name": "Python 3"
    }
  },
  "cells": [
    {
      "cell_type": "markdown",
      "metadata": {
        "id": "view-in-github",
        "colab_type": "text"
      },
      "source": [
        "<a href=\"https://colab.research.google.com/github/jagrutimohanty/CrossDomain-Realtime-FineGrained-Twitter-Senitment-Analysis/blob/main/Take_the_Pulse_Demo.ipynb\" target=\"_parent\"><img src=\"https://colab.research.google.com/assets/colab-badge.svg\" alt=\"Open In Colab\"/></a>"
      ]
    },
    {
      "cell_type": "code",
      "metadata": {
        "colab": {
          "base_uri": "https://localhost:8080/"
        },
        "id": "mr_26JZvVUCZ",
        "outputId": "0e15f761-9b70-46a8-a6fe-bc48af2b387d"
      },
      "source": [
        "import os\n",
        "from google.colab import drive\n",
        "drive.mount('/content/drive')\n",
        "\n",
        "DIR = '/content/drive/Shareddrives/255/Project'\n",
        "if os.getcwd() != DIR:\n",
        "  os.chdir(DIR)"
      ],
      "execution_count": null,
      "outputs": [
        {
          "output_type": "stream",
          "text": [
            "Mounted at /content/drive\n"
          ],
          "name": "stdout"
        }
      ]
    },
    {
      "cell_type": "markdown",
      "metadata": {
        "id": "rp0hvLYRQpBN"
      },
      "source": [
        "# **TAKE THE PULSE - DEMO**\n",
        "\n",
        "## **Fine Grained Sentiment Analysis with Twitter**\n",
        "\n",
        "For our demo we'll showcase our model's predictions in two ways, offline sentiment analysis prediction as well as realtime predictions\n",
        "\n",
        "## Offline Analysis\n",
        "We'll do this in five steps\n",
        "* fetch tweets about movie hashtags from the Twitter API. \n",
        "* run the tweets through a preprocessing pipeline\n",
        "* encode them using BERT like we did for our training data\n",
        "* pass them through our best performing model to get predictions\n",
        "* present the predictions on a bar graph"
      ]
    },
    {
      "cell_type": "markdown",
      "metadata": {
        "id": "hRXlgpooU8Vz"
      },
      "source": [
        "### Step 1: Fetching the Tweets"
      ]
    },
    {
      "cell_type": "code",
      "metadata": {
        "id": "Hfn8h3jzwpZR"
      },
      "source": [
        "import tweepy\n",
        "import pandas as pd\n",
        "import numpy as np"
      ],
      "execution_count": null,
      "outputs": []
    },
    {
      "cell_type": "code",
      "metadata": {
        "id": "TRpccpVNxoMX"
      },
      "source": [
        "# consumer_key = 'UyPPHdeRIueBgXrqzoiOlDUoB'\n",
        "consumer_key = 'dpIyOBNiC1rp4lfXEfeHxu3j7'\n",
        "# consumer_secret = 'XUrseEaZCxu8Aj2xaZWjEp7r1Vo3Jv1mQhhWV3JnwxWYDXLljq'\n",
        "consumer_secret = 'YiAiqYD3feoyDduRVOEDzXSTKU4cIfRwHSVvOsMN9xYwhHx2FD'\n",
        "# access_token = '1310089889547837440-NaIaixz4sHZ8WCNBxFjH2jRsXM6Uss'\n",
        "access_token =  '1308124367159660544-xobTlWL8yW9nl5Kmy5oxlpeEqmXAJ6'\n",
        "# access_token_secret = 'r1EsG2dL4m8qcJNA1oyR85pGC5K0z6X1geiZEb4FyjSbm'\n",
        "access_token_secret = 'QHjlHR2vx2ErmVmQsACxZuUWTMsgi3asgs4K1sevc6jCu'\n",
        "\n",
        "auth = tweepy.OAuthHandler(consumer_key,consumer_secret) \n",
        "auth.set_access_token(access_token, access_token_secret) \n",
        "api = tweepy.API(auth,wait_on_rate_limit=True,wait_on_rate_limit_notify=True)"
      ],
      "execution_count": null,
      "outputs": []
    },
    {
      "cell_type": "code",
      "metadata": {
        "id": "k0VBMgLE8PIy"
      },
      "source": [
        "# FYI, there's a rate limiter on this API call, when we hit the rate limit, the\n",
        "# function sleeps for a set amount of time\n",
        "from datetime import datetime, timedelta\n",
        "\n",
        "now=datetime.today().now()\n",
        "prev=now-timedelta(days=150)\n",
        "now=now.strftime(\"%Y-%m-%d\")\n",
        "prev=prev.strftime(\"%Y-%m-%d\") \n",
        "# LockHerUp negative sentiments\n",
        "# hamilton, TGIF positive sentiments\n",
        "# MacbookAir, iphone12, MacMini, MacOSBigSur for product sentiment\n",
        "# iphone12ProMax, GalaxyS20Ultra, Pixel4XL\n",
        "tweetObjects = tweepy.Cursor(\n",
        "    api.search, \n",
        "    q=['#iphone12'], \n",
        "    lang=\"en\", \n",
        "    since=prev,\n",
        "    until=now, \n",
        "    result_type=\"recent\",\n",
        "    tweet_mode='extended'\n",
        "    ).items(2000)\n",
        "tweets_df = pd.DataFrame([tweetObj.full_text for tweetObj in tweetObjects], columns=['text'])"
      ],
      "execution_count": null,
      "outputs": []
    },
    {
      "cell_type": "markdown",
      "metadata": {
        "id": "L5LFMciLcx_p"
      },
      "source": [
        "For the purposes of our demo we saved the tweets onto Google drive because this API call is rate limited, we don't want to keep fetching the same tweets over and over again and hit the rate limit"
      ]
    },
    {
      "cell_type": "code",
      "metadata": {
        "id": "M98qL-vycyTi"
      },
      "source": [
        "tweets_df.to_csv('./tweets/MacbookAir.csv', index=False)"
      ],
      "execution_count": null,
      "outputs": []
    },
    {
      "cell_type": "code",
      "metadata": {
        "colab": {
          "base_uri": "https://localhost:8080/",
          "height": 309
        },
        "id": "WYHFBnLB2hfi",
        "outputId": "7acd1a06-3648-4844-825e-9e42c165e7b2"
      },
      "source": [
        "pd.set_option('display.max_colwidth', -1)\n",
        "tweets_df.sample(5)"
      ],
      "execution_count": null,
      "outputs": [
        {
          "output_type": "stream",
          "text": [
            "/usr/local/lib/python3.6/dist-packages/ipykernel_launcher.py:1: FutureWarning: Passing a negative integer is deprecated in version 1.0 and will not be supported in future version. Instead, use None to not limit the column width.\n",
            "  \"\"\"Entry point for launching an IPython kernel.\n"
          ],
          "name": "stderr"
        },
        {
          "output_type": "execute_result",
          "data": {
            "text/html": [
              "<div>\n",
              "<style scoped>\n",
              "    .dataframe tbody tr th:only-of-type {\n",
              "        vertical-align: middle;\n",
              "    }\n",
              "\n",
              "    .dataframe tbody tr th {\n",
              "        vertical-align: top;\n",
              "    }\n",
              "\n",
              "    .dataframe thead th {\n",
              "        text-align: right;\n",
              "    }\n",
              "</style>\n",
              "<table border=\"1\" class=\"dataframe\">\n",
              "  <thead>\n",
              "    <tr style=\"text-align: right;\">\n",
              "      <th></th>\n",
              "      <th>text</th>\n",
              "    </tr>\n",
              "  </thead>\n",
              "  <tbody>\n",
              "    <tr>\n",
              "      <th>900</th>\n",
              "      <td>RT @MarkhorTechUrdu: The unboxing of very first Macbook air with Apple M1 chip #m1Chip @apple #MacBookAir https://t.co/8fVfQJVKw0</td>\n",
              "    </tr>\n",
              "    <tr>\n",
              "      <th>862</th>\n",
              "      <td>RT @Poorvika_Mobile: Experience Power that's in the Air with the 13.3\" #MacBookAir from #Apple available for just ₹72,990 with ₹6,000 #HDFC…</td>\n",
              "    </tr>\n",
              "    <tr>\n",
              "      <th>57</th>\n",
              "      <td>Just noticed that every time I hit the #shuffle button in #AppleMusic on a #MacBookPro or #MacBookAir it just plays first track then normal play. It highlights shuffle but doesn’t actually #shuffle @Apple @AppleSupport</td>\n",
              "    </tr>\n",
              "    <tr>\n",
              "      <th>277</th>\n",
              "      <td>DONATIONS ARE DOUBLED TODAY!!  #GivingTuesday #AdventCalendar #distancelearning #disney #Apple #macbookair #December1st  Check out my classroom on @DonorsChoose! I'd love your help to bring my project to life:  https://t.co/DqIxnxizX7</td>\n",
              "    </tr>\n",
              "    <tr>\n",
              "      <th>167</th>\n",
              "      <td>@Apple analyst Ming-Chi Kuo believes that as part of Apple's mini LED push, the company will release a pair of new #MacBookPro models in 2021 with the technology — and a \"more affordable\" #MacBookAir in 2022. @appleinsider @Mike_Wuerthele \\nhttps://t.co/Fr6zOjkYPK</td>\n",
              "    </tr>\n",
              "  </tbody>\n",
              "</table>\n",
              "</div>"
            ],
            "text/plain": [
              "                                                                                                                                                                                                                                                                         text\n",
              "900  RT @MarkhorTechUrdu: The unboxing of very first Macbook air with Apple M1 chip #m1Chip @apple #MacBookAir https://t.co/8fVfQJVKw0                                                                                                                                       \n",
              "862  RT @Poorvika_Mobile: Experience Power that's in the Air with the 13.3\" #MacBookAir from #Apple available for just ₹72,990 with ₹6,000 #HDFC…                                                                                                                            \n",
              "57   Just noticed that every time I hit the #shuffle button in #AppleMusic on a #MacBookPro or #MacBookAir it just plays first track then normal play. It highlights shuffle but doesn’t actually #shuffle @Apple @AppleSupport                                              \n",
              "277  DONATIONS ARE DOUBLED TODAY!!  #GivingTuesday #AdventCalendar #distancelearning #disney #Apple #macbookair #December1st  Check out my classroom on @DonorsChoose! I'd love your help to bring my project to life:  https://t.co/DqIxnxizX7                              \n",
              "167  @Apple analyst Ming-Chi Kuo believes that as part of Apple's mini LED push, the company will release a pair of new #MacBookPro models in 2021 with the technology — and a \"more affordable\" #MacBookAir in 2022. @appleinsider @Mike_Wuerthele \\nhttps://t.co/Fr6zOjkYPK"
            ]
          },
          "metadata": {
            "tags": []
          },
          "execution_count": 18
        }
      ]
    },
    {
      "cell_type": "markdown",
      "metadata": {
        "id": "GWtFnWERAjDy"
      },
      "source": [
        "### Step 2: Tweets Preprocessing\n",
        "\n",
        "We remove all links since they wont add any semantic value to the encoding, we also remove the hashtags and the @mentions as well as the 'RTs' for retweets"
      ]
    },
    {
      "cell_type": "markdown",
      "metadata": {
        "id": "uzIndkQq08NX"
      },
      "source": [
        "Input Tweet Text\n",
        "<br>\n",
        ">`@DaveedDiggs @annas_tea_ I shall Daveed! Just because you asked and were so INCREDIBLE in #Hamilton #BOOM my… https://t.co/0Ccg3Tu9KD`\n",
        "<br> \n",
        "\n",
        "Preprocessed Tweet text\n",
        "<br>\n",
        ">`tea i shall daveed just because you asked and were so incredible in my` \n",
        "<br>\n"
      ]
    },
    {
      "cell_type": "code",
      "metadata": {
        "id": "AD8_BZSoAvIi"
      },
      "source": [
        "import re,string\n",
        "\n",
        "def strip_links(text):\n",
        "    link_regex    = re.compile('((https?):((//)|(\\\\\\\\))+([\\w\\d:#@%/;$()~_?\\+-=\\\\\\.&](#!)?)*)', re.DOTALL)\n",
        "    links         = re.findall(link_regex, text)\n",
        "    for link in links:\n",
        "        text = text.replace(link[0], ', ')    \n",
        "    return text\n",
        "\n",
        "def strip_all_entities(text):\n",
        "    entity_prefixes = ['@','#']\n",
        "    for separator in  string.punctuation:\n",
        "        if separator not in entity_prefixes :\n",
        "            text = text.replace(separator,' ')\n",
        "    words = []\n",
        "    for word in text.split():\n",
        "        word = word.strip()\n",
        "        if word:\n",
        "            if word[0] not in entity_prefixes:\n",
        "                words.append(word)\n",
        "    text = ' '.join(words)\n",
        "    return text.replace('RT ', '').lower()\n",
        "\n",
        "def preprocess_tweets(s):\n",
        "  return strip_all_entities(strip_links(s))\n",
        "\n",
        "tweets_df['text'] = tweets_df ['text'].apply(preprocess_tweets)"
      ],
      "execution_count": null,
      "outputs": []
    },
    {
      "cell_type": "markdown",
      "metadata": {
        "id": "W1BoDPnp3D_b"
      },
      "source": [
        "We also remove tweets that are only punctuations"
      ]
    },
    {
      "cell_type": "code",
      "metadata": {
        "id": "TYmiOTSam21Z"
      },
      "source": [
        "remove_invalid_phrases = lambda s: s.strip(string.punctuation) != ''\n",
        "tweets_df = tweets_df[tweets_df['text'].apply(remove_invalid_phrases).to_list()]"
      ],
      "execution_count": null,
      "outputs": []
    },
    {
      "cell_type": "markdown",
      "metadata": {
        "id": "DbZ8-RIILOyu"
      },
      "source": [
        "We might have tweets that have no text after all our pre-processing, so let's filter out such tweets if any"
      ]
    },
    {
      "cell_type": "code",
      "metadata": {
        "colab": {
          "base_uri": "https://localhost:8080/"
        },
        "id": "3JCJ14eMLOXr",
        "outputId": "758afd8d-3df1-44ac-ef35-33822a753991"
      },
      "source": [
        "tweets_df = tweets_df[tweets_df['text'] != '']\n",
        "tweets_df.shape"
      ],
      "execution_count": null,
      "outputs": [
        {
          "output_type": "execute_result",
          "data": {
            "text/plain": [
              "(2000, 1)"
            ]
          },
          "metadata": {
            "tags": []
          },
          "execution_count": 33
        }
      ]
    },
    {
      "cell_type": "markdown",
      "metadata": {
        "id": "yWroGsVkJ1RT"
      },
      "source": [
        "### Step 3: Tweets BERT Encoding\n",
        "\n",
        "We now run the cleaned tweets through a Sentence Bert encoder. We use a publicly available pretrained model. `distilbert-base-nli-stsb-mean-tokens`, that is based on the paper *Sentence Embeddings using Siamese BERT Networks* by Nils Reimer and Iryna Gurevyh https://arxiv.org/abs/1908.10084\n",
        "\n",
        "Sentence BERT outputs a vector of shape (768,) for each tweet"
      ]
    },
    {
      "cell_type": "code",
      "metadata": {
        "id": "P4O-YnpZ7RtN",
        "colab": {
          "base_uri": "https://localhost:8080/"
        },
        "outputId": "4bc2ed10-633f-44ea-b186-b2ff4290ec3d"
      },
      "source": [
        "!pip install -U sentence-transformers"
      ],
      "execution_count": null,
      "outputs": [
        {
          "output_type": "stream",
          "text": [
            "Collecting sentence-transformers\n",
            "\u001b[?25l  Downloading https://files.pythonhosted.org/packages/f5/5a/6e41e8383913dd2ba923cdcd02be2e03911595f4d2f9de559ecbed80d2d3/sentence-transformers-0.3.9.tar.gz (64kB)\n",
            "\u001b[K     |████████████████████████████████| 71kB 3.4MB/s \n",
            "\u001b[?25hCollecting transformers<3.6.0,>=3.1.0\n",
            "\u001b[?25l  Downloading https://files.pythonhosted.org/packages/3a/83/e74092e7f24a08d751aa59b37a9fc572b2e4af3918cb66f7766c3affb1b4/transformers-3.5.1-py3-none-any.whl (1.3MB)\n",
            "\u001b[K     |████████████████████████████████| 1.3MB 8.5MB/s \n",
            "\u001b[?25hRequirement already satisfied, skipping upgrade: tqdm in /usr/local/lib/python3.6/dist-packages (from sentence-transformers) (4.41.1)\n",
            "Requirement already satisfied, skipping upgrade: torch>=1.6.0 in /usr/local/lib/python3.6/dist-packages (from sentence-transformers) (1.7.0+cu101)\n",
            "Requirement already satisfied, skipping upgrade: numpy in /usr/local/lib/python3.6/dist-packages (from sentence-transformers) (1.18.5)\n",
            "Requirement already satisfied, skipping upgrade: scikit-learn in /usr/local/lib/python3.6/dist-packages (from sentence-transformers) (0.22.2.post1)\n",
            "Requirement already satisfied, skipping upgrade: scipy in /usr/local/lib/python3.6/dist-packages (from sentence-transformers) (1.4.1)\n",
            "Requirement already satisfied, skipping upgrade: nltk in /usr/local/lib/python3.6/dist-packages (from sentence-transformers) (3.2.5)\n",
            "Collecting tokenizers==0.9.3\n",
            "\u001b[?25l  Downloading https://files.pythonhosted.org/packages/4c/34/b39eb9994bc3c999270b69c9eea40ecc6f0e97991dba28282b9fd32d44ee/tokenizers-0.9.3-cp36-cp36m-manylinux1_x86_64.whl (2.9MB)\n",
            "\u001b[K     |████████████████████████████████| 2.9MB 41.4MB/s \n",
            "\u001b[?25hCollecting sentencepiece==0.1.91\n",
            "\u001b[?25l  Downloading https://files.pythonhosted.org/packages/d4/a4/d0a884c4300004a78cca907a6ff9a5e9fe4f090f5d95ab341c53d28cbc58/sentencepiece-0.1.91-cp36-cp36m-manylinux1_x86_64.whl (1.1MB)\n",
            "\u001b[K     |████████████████████████████████| 1.1MB 43.9MB/s \n",
            "\u001b[?25hCollecting sacremoses\n",
            "\u001b[?25l  Downloading https://files.pythonhosted.org/packages/7d/34/09d19aff26edcc8eb2a01bed8e98f13a1537005d31e95233fd48216eed10/sacremoses-0.0.43.tar.gz (883kB)\n",
            "\u001b[K     |████████████████████████████████| 890kB 34.0MB/s \n",
            "\u001b[?25hRequirement already satisfied, skipping upgrade: regex!=2019.12.17 in /usr/local/lib/python3.6/dist-packages (from transformers<3.6.0,>=3.1.0->sentence-transformers) (2019.12.20)\n",
            "Requirement already satisfied, skipping upgrade: dataclasses; python_version < \"3.7\" in /usr/local/lib/python3.6/dist-packages (from transformers<3.6.0,>=3.1.0->sentence-transformers) (0.8)\n",
            "Requirement already satisfied, skipping upgrade: protobuf in /usr/local/lib/python3.6/dist-packages (from transformers<3.6.0,>=3.1.0->sentence-transformers) (3.12.4)\n",
            "Requirement already satisfied, skipping upgrade: requests in /usr/local/lib/python3.6/dist-packages (from transformers<3.6.0,>=3.1.0->sentence-transformers) (2.23.0)\n",
            "Requirement already satisfied, skipping upgrade: filelock in /usr/local/lib/python3.6/dist-packages (from transformers<3.6.0,>=3.1.0->sentence-transformers) (3.0.12)\n",
            "Requirement already satisfied, skipping upgrade: packaging in /usr/local/lib/python3.6/dist-packages (from transformers<3.6.0,>=3.1.0->sentence-transformers) (20.4)\n",
            "Requirement already satisfied, skipping upgrade: typing-extensions in /usr/local/lib/python3.6/dist-packages (from torch>=1.6.0->sentence-transformers) (3.7.4.3)\n",
            "Requirement already satisfied, skipping upgrade: future in /usr/local/lib/python3.6/dist-packages (from torch>=1.6.0->sentence-transformers) (0.16.0)\n",
            "Requirement already satisfied, skipping upgrade: joblib>=0.11 in /usr/local/lib/python3.6/dist-packages (from scikit-learn->sentence-transformers) (0.17.0)\n",
            "Requirement already satisfied, skipping upgrade: six in /usr/local/lib/python3.6/dist-packages (from nltk->sentence-transformers) (1.15.0)\n",
            "Requirement already satisfied, skipping upgrade: click in /usr/local/lib/python3.6/dist-packages (from sacremoses->transformers<3.6.0,>=3.1.0->sentence-transformers) (7.1.2)\n",
            "Requirement already satisfied, skipping upgrade: setuptools in /usr/local/lib/python3.6/dist-packages (from protobuf->transformers<3.6.0,>=3.1.0->sentence-transformers) (50.3.2)\n",
            "Requirement already satisfied, skipping upgrade: certifi>=2017.4.17 in /usr/local/lib/python3.6/dist-packages (from requests->transformers<3.6.0,>=3.1.0->sentence-transformers) (2020.11.8)\n",
            "Requirement already satisfied, skipping upgrade: urllib3!=1.25.0,!=1.25.1,<1.26,>=1.21.1 in /usr/local/lib/python3.6/dist-packages (from requests->transformers<3.6.0,>=3.1.0->sentence-transformers) (1.24.3)\n",
            "Requirement already satisfied, skipping upgrade: chardet<4,>=3.0.2 in /usr/local/lib/python3.6/dist-packages (from requests->transformers<3.6.0,>=3.1.0->sentence-transformers) (3.0.4)\n",
            "Requirement already satisfied, skipping upgrade: idna<3,>=2.5 in /usr/local/lib/python3.6/dist-packages (from requests->transformers<3.6.0,>=3.1.0->sentence-transformers) (2.10)\n",
            "Requirement already satisfied, skipping upgrade: pyparsing>=2.0.2 in /usr/local/lib/python3.6/dist-packages (from packaging->transformers<3.6.0,>=3.1.0->sentence-transformers) (2.4.7)\n",
            "Building wheels for collected packages: sentence-transformers, sacremoses\n",
            "  Building wheel for sentence-transformers (setup.py) ... \u001b[?25l\u001b[?25hdone\n",
            "  Created wheel for sentence-transformers: filename=sentence_transformers-0.3.9-cp36-none-any.whl size=101036 sha256=78056648d7d18269bbb7d4363c6508e93e01dbbf5ccc670a69f041e19de92327\n",
            "  Stored in directory: /root/.cache/pip/wheels/fc/89/43/f2f5bc00b03ef9724b0f6254a97eaf159a4c4ddc024b33e07a\n",
            "  Building wheel for sacremoses (setup.py) ... \u001b[?25l\u001b[?25hdone\n",
            "  Created wheel for sacremoses: filename=sacremoses-0.0.43-cp36-none-any.whl size=893257 sha256=e6788d090f57a169b607a12d69fe0a549942cbd89d8bbb6961adbcdb685fd23f\n",
            "  Stored in directory: /root/.cache/pip/wheels/29/3c/fd/7ce5c3f0666dab31a50123635e6fb5e19ceb42ce38d4e58f45\n",
            "Successfully built sentence-transformers sacremoses\n",
            "Installing collected packages: tokenizers, sentencepiece, sacremoses, transformers, sentence-transformers\n",
            "Successfully installed sacremoses-0.0.43 sentence-transformers-0.3.9 sentencepiece-0.1.91 tokenizers-0.9.3 transformers-3.5.1\n"
          ],
          "name": "stdout"
        }
      ]
    },
    {
      "cell_type": "code",
      "metadata": {
        "id": "8N0vfjmgmcEd",
        "colab": {
          "base_uri": "https://localhost:8080/"
        },
        "outputId": "80a81cc2-b64e-4232-f5ed-5c2cd2a2d151"
      },
      "source": [
        "from sentence_transformers import SentenceTransformer\n",
        "sbert_model = SentenceTransformer('bert-base-nli-mean-tokens')\n",
        "encodings = sbert_model.encode(tweets_df['text'].to_numpy())"
      ],
      "execution_count": null,
      "outputs": [
        {
          "output_type": "stream",
          "text": [
            "100%|██████████| 405M/405M [00:18<00:00, 22.4MB/s]\n"
          ],
          "name": "stderr"
        }
      ]
    },
    {
      "cell_type": "markdown",
      "metadata": {
        "id": "ii_-PGuMrKtk"
      },
      "source": [
        "### Step 4: Predict the sentiment aka \"Take the Pulse\"\n",
        "\n",
        "We'll load our best performing SVM Classfier and predict the sentiment of the tweets.\n",
        "\n",
        "> This classifier does include a scikit learn standard scaler in its pipeline that normalizes the vectors before making predictions\n",
        "\n"
      ]
    },
    {
      "cell_type": "code",
      "metadata": {
        "id": "-3pz2RxQsV8O"
      },
      "source": [
        "from joblib import load\n",
        "# clf = load('./svm_models/rbf_512_80000_5.joblib')\n",
        "# balanced classifier that takes into account the imbalance in our dataset\n",
        "clf = load('./svm_models/rbf_80000_5_balanced.joblib')\n",
        "ovr_clf = load('./svm_models/ovr_rbf_80000_5_balanced.joblib')\n",
        "gcv_clf = load('./svm_models/rbf_80000_5_balanced_gcv.joblib')"
      ],
      "execution_count": null,
      "outputs": []
    },
    {
      "cell_type": "markdown",
      "metadata": {
        "id": "bqzOJpU1tIy-"
      },
      "source": [
        "We'll apply PCA to our tweet encoding vectors, by reducing it to a vector of shape (512,) for consistency with how our model was trained. This allows us to speed up the prediction while keeping over 99% of the variance in the original encodings array.\n",
        "\n",
        ">We don't need to apply standard sacling here since it's included as part of the pipelined classifier that we loaded into memory"
      ]
    },
    {
      "cell_type": "code",
      "metadata": {
        "colab": {
          "base_uri": "https://localhost:8080/"
        },
        "id": "GCf6PO_ktdul",
        "outputId": "3d16e5f4-d874-4784-b4e6-0aa2d5d831ea"
      },
      "source": [
        "from sklearn.decomposition import PCA\n",
        "\n",
        "pca = PCA(n_components=512)\n",
        "encodings = pca.fit_transform(encodings)\n",
        "print(np.sum(pca.explained_variance_ratio_))"
      ],
      "execution_count": null,
      "outputs": [
        {
          "output_type": "stream",
          "text": [
            "1.0\n"
          ],
          "name": "stdout"
        }
      ]
    },
    {
      "cell_type": "code",
      "metadata": {
        "colab": {
          "base_uri": "https://localhost:8080/"
        },
        "id": "peVy__gTyvJW",
        "outputId": "732654a4-1903-41ae-cb97-d4900b2968f7"
      },
      "source": [
        "tweets_df.shape"
      ],
      "execution_count": null,
      "outputs": [
        {
          "output_type": "execute_result",
          "data": {
            "text/plain": [
              "(2000, 1)"
            ]
          },
          "metadata": {
            "tags": []
          },
          "execution_count": 31
        }
      ]
    },
    {
      "cell_type": "code",
      "metadata": {
        "id": "0PEC3U7Qu4jd"
      },
      "source": [
        "sentiments = clf.predict(encodings)\n",
        "ovr_sentiments = ovr_clf.predict(encodings)\n",
        "gcv_sentiments = gcv_clf.predict(encodings)\n",
        "tweets_df = tweets_df.assign(sentiments=sentiments)\n",
        "tweets_df = tweets_df.assign(ovr_sentiments=ovr_sentiments)\n",
        "tweets_df = tweets_df.assign(gcv_sentiments=gcv_sentiments)"
      ],
      "execution_count": null,
      "outputs": []
    },
    {
      "cell_type": "code",
      "metadata": {
        "id": "SLbbGLkMvOgC"
      },
      "source": [
        "tweets_df.sample(5)"
      ],
      "execution_count": null,
      "outputs": []
    },
    {
      "cell_type": "markdown",
      "metadata": {
        "id": "l2fJLlHGv417"
      },
      "source": [
        "### Step 5: Visualization"
      ]
    },
    {
      "cell_type": "markdown",
      "metadata": {
        "id": "KOUF8bJATjNa"
      },
      "source": [
        "Map from label numbers to sentiment description"
      ]
    },
    {
      "cell_type": "code",
      "metadata": {
        "id": "LrLy_fwkTiVt"
      },
      "source": [
        "labels_map = {\n",
        "    '0': 'Very Negative :(',\n",
        "    '1': '- Negative -',\n",
        "    '2': 'Neutral :-|',\n",
        "    '3': '+ Positive +',\n",
        "    '4': 'Very Positive :)'\n",
        "}"
      ],
      "execution_count": null,
      "outputs": []
    },
    {
      "cell_type": "code",
      "metadata": {
        "id": "zWeO4QefwBTn"
      },
      "source": [
        "import matplotlib.pyplot as plt\n",
        "\n",
        "counts = tweets_df['sentiments'].value_counts()\n",
        "x = [labels_map[str(idx)] for idx in counts.index]\n",
        "y = counts.to_numpy()\n",
        "fig = plt.figure()\n",
        "ax = fig.add_axes([0,0,2,2])\n",
        "ax.bar(x,y)\n",
        "plt.show()"
      ],
      "execution_count": null,
      "outputs": []
    },
    {
      "cell_type": "code",
      "metadata": {
        "colab": {
          "base_uri": "https://localhost:8080/",
          "height": 624
        },
        "id": "1zPY5vz32C_x",
        "outputId": "54ed1de3-17e1-4462-d74f-c6090c54147c"
      },
      "source": [
        "x = counts.index\n",
        "fig = plt.figure()\n",
        "ax = fig.add_axes([0,0,2,2])\n",
        "ax.bar(x,y)\n",
        "plt.show()"
      ],
      "execution_count": null,
      "outputs": [
        {
          "output_type": "display_data",
          "data": {
            "image/png": "[encoded data removed]",
            "text/plain": [
              "<Figure size 432x288 with 1 Axes>"
            ]
          },
          "metadata": {
            "tags": [],
            "needs_background": "light"
          }
        }
      ]
    },
    {
      "cell_type": "markdown",
      "metadata": {
        "id": "ZIcRJXhBrfcZ"
      },
      "source": [
        "For multiple hashtags we can display the same information on a stacked bar graph."
      ]
    },
    {
      "cell_type": "markdown",
      "metadata": {
        "id": "_zXIY0SG_MTn"
      },
      "source": [
        "## Online Analysis "
      ]
    },
    {
      "cell_type": "markdown",
      "metadata": {
        "id": "zF3tCfkxeZdG"
      },
      "source": [
        "### Streaming Tweets\n",
        "\n",
        "We can also stream tweets from trending topics and get predictions on the sentiment of these tweets. So this runs through essentially the same pipeline as above, except the tweets are not obtained in a single REST API call but through a streaming API that listens until it reaches a minimum number of tweets and then runs the sentiment analysis pipeline with predictions at the end."
      ]
    },
    {
      "cell_type": "code",
      "metadata": {
        "id": "ylByRls8SE8d"
      },
      "source": [
        "# helper function to preprocess and predict the sentiment for a single tweet\n",
        "def take_the_pulse(tweet):\n",
        "  tweets = [tweet]\n",
        "  tweets = list(map(preprocess_tweets, tweets))\n",
        "  tweets = list(filter(remove_invalid_phrases, tweets))\n",
        "  encodings = sbert_model.encode(tweets)\n",
        "  sentiments = u_clf.predict(pca.transform(encodings))\n",
        "  return tweets[0], sentiments[0]"
      ],
      "execution_count": null,
      "outputs": []
    },
    {
      "cell_type": "code",
      "metadata": {
        "id": "asuIEspHS9Fk"
      },
      "source": [
        "# helper function to get tweet's full text\n",
        "def get_full_text(tweet):\n",
        "    if 'retweeted_status' in tweet and 'extended_tweet' in tweet['retweeted_status']:\n",
        "        return tweet['retweeted_status']['extended_tweet']['full_text']\n",
        "    if 'extended_tweet' in tweet:\n",
        "        return tweet['extended_tweet']['full_text']\n",
        "    else:\n",
        "        return tweet['text']"
      ],
      "execution_count": null,
      "outputs": []
    },
    {
      "cell_type": "code",
      "metadata": {
        "id": "tC5eGTpHyk5D"
      },
      "source": [
        "from tweepy.streaming import StreamListener\n",
        "from tweepy import OAuthHandler\n",
        "from tweepy import Stream\n",
        "import re\n",
        "import json\n",
        "\n",
        "# Global variables to keep track of when to close the stream\n",
        "tweet_count = 0\n",
        "MAX_TWEET_COUNT = 3\n",
        "\n",
        "# Tweet Stream Listener\n",
        "class StdOutListener(StreamListener):  \n",
        "    def on_data(self, data):\n",
        "        global tweet_count\n",
        "        global MAX_TWEETS\n",
        "        global stream\n",
        "        if tweet_count < MAX_TWEET_COUNT:\n",
        "            tweet = json.loads(data)    \n",
        "            if tweet['lang'] == \"en\":\n",
        "              text = get_full_text(tweet)\n",
        "              processed_text, sentiment = take_the_pulse(text)\n",
        "              print('==================================================')\n",
        "              print('Tweet: ', processed_text)\n",
        "              print('Predicted Sentiment: ', labels_map[str(sentiment)])\n",
        "              print('==================================================')\n",
        "              tweet_count += 1\n",
        "            return True\n",
        "        else:\n",
        "            stream.disconnect()"
      ],
      "execution_count": null,
      "outputs": []
    },
    {
      "cell_type": "code",
      "metadata": {
        "id": "XlhK1e8uBmQO"
      },
      "source": [
        "# Handles Twitter authetification and the connection to Twitter Streaming API\n",
        "tweet_count = 0\n",
        "listener = StdOutListener()\n",
        "auth = OAuthHandler(consumer_key, consumer_secret)\n",
        "auth.set_access_token(access_token, access_token_secret)\n",
        "stream = Stream(auth, listener, tweet_mode='extended')\n",
        "stream.filter(track=['#COVID19'])"
      ],
      "execution_count": null,
      "outputs": []
    },
    {
      "cell_type": "markdown",
      "metadata": {
        "id": "7xSy3upFB5iv"
      },
      "source": [
        "### Trending Topics\n",
        "\n",
        "We'll try out our model with trending topics and see what results we get"
      ]
    },
    {
      "cell_type": "markdown",
      "metadata": {
        "id": "eaD6ggjjQrRP"
      },
      "source": [
        "Fetch trending topics by location. For this cell we'll experiment with ID 1 which is the global ID for trending topics worldwide"
      ]
    },
    {
      "cell_type": "code",
      "metadata": {
        "id": "i7lj51MU2Y7y"
      },
      "source": [
        "# get tags by location\n",
        "# we'll use ID 1 and ID 2488042 \n",
        "GLOBAL_ID = 1\n",
        "SJ_ID = 2488042\n",
        "SF_ID = 2487956\n",
        "tags = api.trends_place(GLOBAL_ID)\n",
        "\n",
        "def top_k_tags(k, tags):\n",
        "  top_k = tags[0]['trends'][:k]\n",
        "  return [(tag['name'], tag['query'], tag['tweet_volume']) for tag in top_k]"
      ],
      "execution_count": null,
      "outputs": []
    },
    {
      "cell_type": "markdown",
      "metadata": {
        "id": "ysBCKtgcQ6NR"
      },
      "source": [
        "Get the top 10 topics and their corresponding tweet volume"
      ]
    },
    {
      "cell_type": "code",
      "metadata": {
        "colab": {
          "base_uri": "https://localhost:8080/"
        },
        "id": "6LiJ1SShE3QP",
        "outputId": "083e0fcb-406f-486d-8a30-c155659c653d"
      },
      "source": [
        "top10 = top_k_tags(10, tags)\n",
        "print(top10)"
      ],
      "execution_count": null,
      "outputs": [
        {
          "output_type": "stream",
          "text": [
            "[('#WeLoveYouHyunjin', '%23WeLoveYouHyunjin', 105749), ('#HyunjinBestBoy', '%23HyunjinBestBoy', 98435), ('#REUNION', '%23REUNION', 17223), ('#ガチで欲しいもの5選', '%23%E3%82%AC%E3%83%81%E3%81%A7%E6%AC%B2%E3%81%97%E3%81%84%E3%82%82%E3%81%AE5%E9%81%B8', None), ('#RESONANCEwithNCT', '%23RESONANCEwithNCT', 158587), ('集計ミス', '%E9%9B%86%E8%A8%88%E3%83%9F%E3%82%B9', 10220), ('リンボマン', '%E3%83%AA%E3%83%B3%E3%83%9C%E3%83%9E%E3%83%B3', 17890), ('BTS vs BTS', '%22BTS+vs+BTS%22', 56844), ('soobin', 'soobin', 141159), ('محمد', '%D9%85%D8%AD%D9%85%D8%AF', 387472)]\n"
          ],
          "name": "stdout"
        }
      ]
    },
    {
      "cell_type": "code",
      "metadata": {
        "colab": {
          "base_uri": "https://localhost:8080/",
          "height": 35
        },
        "id": "QDVZnrQmWbZb",
        "outputId": "13b7e5be-816c-428a-ed42-33a6050e6b32"
      },
      "source": [
        "hottest_topic_query = top10[0][0]\n",
        "if hottest_topic_query[0] != '#':\n",
        "  hottest_topic_query = '#' + hottest_topic_query\n",
        "hottest_topic_query"
      ],
      "execution_count": null,
      "outputs": [
        {
          "output_type": "execute_result",
          "data": {
            "application/vnd.google.colaboratory.intrinsic+json": {
              "type": "string"
            },
            "text/plain": [
              "'#WeLoveYouHyunjin'"
            ]
          },
          "metadata": {
            "tags": []
          },
          "execution_count": 261
        }
      ]
    },
    {
      "cell_type": "markdown",
      "metadata": {
        "id": "ep2C6plwRBqm"
      },
      "source": [
        "Set a stream to listen in for the tweets and predict their sentiment as they come in."
      ]
    },
    {
      "cell_type": "code",
      "metadata": {
        "id": "rcjAH7Eg2Z2R"
      },
      "source": [
        "tweet_count = 0\n",
        "listener = StdOutListener()\n",
        "auth = OAuthHandler(consumer_key, consumer_secret)\n",
        "auth.set_access_token(access_token, access_token_secret)\n",
        "stream = Stream(auth, listener, tweet_mode='extended')\n",
        "stream.filter(track=[hottest_topic_query])"
      ],
      "execution_count": null,
      "outputs": []
    }
  ]
}